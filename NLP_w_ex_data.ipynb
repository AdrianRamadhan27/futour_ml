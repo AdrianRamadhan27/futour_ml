{
  "nbformat": 4,
  "nbformat_minor": 0,
  "metadata": {
    "colab": {
      "provenance": []
    },
    "kernelspec": {
      "name": "python3",
      "display_name": "Python 3"
    },
    "language_info": {
      "name": "python"
    }
  },
  "cells": [
    {
      "cell_type": "code",
      "source": [
        "import tensorflow as tf\n",
        "import numpy as np\n",
        "from tensorflow.keras.models import Sequential\n",
        "from tensorflow.keras.layers import Embedding, LSTM, Dense, Dropout, Bidirectional\n",
        "from tensorflow.keras.preprocessing.text import Tokenizer\n",
        "from tensorflow.keras.preprocessing.sequence import pad_sequences\n",
        "import tensorflow.keras.utils as ku\n",
        "import matplotlib.pyplot as plt"
      ],
      "metadata": {
        "id": "FaWSLNnl-W0T"
      },
      "execution_count": 1,
      "outputs": []
    },
    {
      "cell_type": "code",
      "source": [
        "# Sample data: Tourist spots and their genres\n",
        "places = [\n",
        "    'The Louvre', 'Eiffel Tower', 'Central Park', 'Smithsonian Museum', 'Grand Canyon', 'Prado Museum',\n",
        "    'Colosseum', 'Statue of Liberty', 'Machu Picchu', 'Taj Mahal', 'Great Wall of China', 'Sydney Opera House',\n",
        "    'Mount Everest', 'Banff National Park', 'Alcatraz Island', 'Versailles Palace', 'Mount Fuji', 'Stonehenge',\n",
        "    'Sagrada Familia', 'Mount Rushmore'\n",
        "]\n",
        "\n",
        "descriptions = {\n",
        "    'The Louvre': 'A historic art museum in Paris that houses thousands of years of art history.',\n",
        "    'Eiffel Tower': 'An iconic landmark in Paris with a rich historical background.',\n",
        "    'Central Park': 'A large urban park offering green spaces and recreational activities.',\n",
        "    'Smithsonian Museum': 'A museum in Washington D.C. showcasing American history and culture.',\n",
        "    'Grand Canyon': 'A historical natural landmark in the USA known for its massive scale and beauty.',\n",
        "    'Prado Museum': 'A museum in Madrid known for its collection of European art.',\n",
        "    'Colosseum': 'An ancient Roman amphitheater in the center of Rome, Italy.',\n",
        "    'Statue of Liberty': 'A colossal neoclassical sculpture on Liberty Island in New York Harbor.',\n",
        "    'Machu Picchu': 'An ancient Inca city located in the Andes Mountains in Peru.',\n",
        "    'Taj Mahal': 'A white marble mausoleum in India, symbolizing eternal love.',\n",
        "    'Great Wall of China': 'A series of fortifications built along the northern borders of China.',\n",
        "    'Sydney Opera House': 'An iconic performing arts center in Sydney, Australia.',\n",
        "    'Mount Everest': 'The highest mountain in the world, located in the Himalayas.',\n",
        "    'Banff National Park': 'A beautiful national park in Canada, known for its stunning lakes and mountains.',\n",
        "    'Alcatraz Island': 'A small island in San Francisco Bay, known for its former prison.',\n",
        "    'Versailles Palace': 'A royal château in France known for its opulent architecture and gardens.',\n",
        "    'Mount Fuji': 'An active stratovolcano and Japan’s highest peak.',\n",
        "    'Stonehenge': 'A prehistoric monument consisting of standing stones in Wiltshire, England.',\n",
        "    'Sagrada Familia': 'A basilica in Barcelona, Spain, designed by architect Antoni Gaudí.',\n",
        "    'Mount Rushmore': 'A massive sculpture of four U.S. presidents carved into the Black Hills of South Dakota.'\n",
        "}\n",
        "\n",
        "# Genres associated with each place\n",
        "genres = ['Historical', 'Museum', 'Park', 'Natural Landmark', 'Monument', 'Religious Site']\n",
        "\n",
        "# Mapping places to genres (example data)\n",
        "place_genre_mapping = {\n",
        "    'The Louvre': 'Museum',\n",
        "    'Eiffel Tower': 'Monument',\n",
        "    'Central Park': 'Park',\n",
        "    'Smithsonian Museum': 'Museum',\n",
        "    'Grand Canyon': 'Natural Landmark',\n",
        "    'Prado Museum': 'Museum',\n",
        "    'Colosseum': 'Historical',\n",
        "    'Statue of Liberty': 'Monument',\n",
        "    'Machu Picchu': 'Historical',\n",
        "    'Taj Mahal': 'Monument',\n",
        "    'Great Wall of China': 'Historical',\n",
        "    'Sydney Opera House': 'Monument',\n",
        "    'Mount Everest': 'Natural Landmark',\n",
        "    'Banff National Park': 'Park',\n",
        "    'Alcatraz Island': 'Historical',\n",
        "    'Versailles Palace': 'Historical',\n",
        "    'Mount Fuji': 'Natural Landmark',\n",
        "    'Stonehenge': 'Historical',\n",
        "    'Sagrada Familia': 'Religious Site',\n",
        "    'Mount Rushmore': 'Monument'\n",
        "}\n",
        "# Combine all text for tokenization and training\n",
        "all_descriptions = list(descriptions.values())"
      ],
      "metadata": {
        "id": "b04ucVLp-a5x"
      },
      "execution_count": 2,
      "outputs": []
    },
    {
      "cell_type": "code",
      "source": [
        "# Tokenizer initialization\n",
        "tokenizer = Tokenizer()\n",
        "corpus = list(descriptions.values())  # Only descriptions of the places\n",
        "\n",
        "# Fit tokenizer on the text corpus\n",
        "tokenizer.fit_on_texts(corpus)\n",
        "total_words = len(tokenizer.word_index) + 1  # Adding 1 because tokenizer index starts from 1\n",
        "\n",
        "# Create input sequences (n-gram sequences)\n",
        "input_sequences = []\n",
        "for line in corpus:\n",
        "    token_list = tokenizer.texts_to_sequences([line])[0]\n",
        "    for i in range(1, len(token_list)):\n",
        "        n_gram_sequence = token_list[:i+1]\n",
        "        input_sequences.append(n_gram_sequence)\n",
        "\n",
        "# Pad sequences to ensure uniform length\n",
        "max_sequence_len = max([len(x) for x in input_sequences])\n",
        "input_sequences = np.array(pad_sequences(input_sequences, maxlen=max_sequence_len, padding='pre'))\n",
        "\n",
        "# Prepare predictors (X) and labels (y)\n",
        "predictors = [descriptions[place] for place in places]\n",
        "# Tokenize predictors (input descriptions of places)\n",
        "predictors_sequences = tokenizer.texts_to_sequences(predictors)\n",
        "predictors_padded = pad_sequences(predictors_sequences, maxlen=max_sequence_len, padding='pre')\n",
        "\n",
        "# Labels: Convert genre labels to numerical values\n",
        "labels = [place_genre_mapping[place] for place in places]\n",
        "labels_encoded = ku.to_categorical([genres.index(genre) for genre in labels], num_classes=len(genres))"
      ],
      "metadata": {
        "id": "lbw2XSVz-kii"
      },
      "execution_count": 3,
      "outputs": []
    },
    {
      "cell_type": "code",
      "source": [
        "# Define the model\n",
        "model = Sequential()\n",
        "model.add(Embedding(total_words, 100, input_length=max_sequence_len-1))  # Embedding layer\n",
        "model.add(Bidirectional(LSTM(150, return_sequences=True)))  # LSTM layer\n",
        "model.add(Dropout(0.2))  # Dropout layer\n",
        "model.add(LSTM(100))  # Another LSTM layer\n",
        "model.add(Dense(128, activation='relu'))  # Dense layer\n",
        "model.add(Dense(64, activation='relu'))\n",
        "model.add(Dense(len(genres), activation='softmax'))  # Output layer with softmax\n",
        "\n",
        "# Compile the model\n",
        "model.compile(loss='categorical_crossentropy', optimizer='adam', metrics=['accuracy'])"
      ],
      "metadata": {
        "colab": {
          "base_uri": "https://localhost:8080/"
        },
        "id": "LC0Vhl7Q-t1K",
        "outputId": "5675280b-38c6-4c7d-c369-68a2f63bf3e6"
      },
      "execution_count": 26,
      "outputs": [
        {
          "output_type": "stream",
          "name": "stderr",
          "text": [
            "/usr/local/lib/python3.10/dist-packages/keras/src/layers/core/embedding.py:90: UserWarning: Argument `input_length` is deprecated. Just remove it.\n",
            "  warnings.warn(\n"
          ]
        }
      ]
    },
    {
      "cell_type": "code",
      "source": [
        "# Train the model\n",
        "history = model.fit(predictors_padded, labels_encoded, epochs=70, batch_size=1, verbose=1)"
      ],
      "metadata": {
        "colab": {
          "base_uri": "https://localhost:8080/"
        },
        "id": "QA7zZF8P-yf2",
        "outputId": "b3b168ba-0d53-4e3b-9c8b-7e266d5574d5"
      },
      "execution_count": 27,
      "outputs": [
        {
          "output_type": "stream",
          "name": "stdout",
          "text": [
            "Epoch 1/70\n",
            "\u001b[1m20/20\u001b[0m \u001b[32m━━━━━━━━━━━━━━━━━━━━\u001b[0m\u001b[37m\u001b[0m \u001b[1m7s\u001b[0m 40ms/step - accuracy: 0.2933 - loss: 1.7915\n",
            "Epoch 2/70\n",
            "\u001b[1m20/20\u001b[0m \u001b[32m━━━━━━━━━━━━━━━━━━━━\u001b[0m\u001b[37m\u001b[0m \u001b[1m1s\u001b[0m 42ms/step - accuracy: 0.1227 - loss: 1.7325\n",
            "Epoch 3/70\n",
            "\u001b[1m20/20\u001b[0m \u001b[32m━━━━━━━━━━━━━━━━━━━━\u001b[0m\u001b[37m\u001b[0m \u001b[1m1s\u001b[0m 38ms/step - accuracy: 0.2851 - loss: 1.6493\n",
            "Epoch 4/70\n",
            "\u001b[1m20/20\u001b[0m \u001b[32m━━━━━━━━━━━━━━━━━━━━\u001b[0m\u001b[37m\u001b[0m \u001b[1m1s\u001b[0m 39ms/step - accuracy: 0.2197 - loss: 1.6092\n",
            "Epoch 5/70\n",
            "\u001b[1m20/20\u001b[0m \u001b[32m━━━━━━━━━━━━━━━━━━━━\u001b[0m\u001b[37m\u001b[0m \u001b[1m1s\u001b[0m 40ms/step - accuracy: 0.4522 - loss: 1.2819\n",
            "Epoch 6/70\n",
            "\u001b[1m20/20\u001b[0m \u001b[32m━━━━━━━━━━━━━━━━━━━━\u001b[0m\u001b[37m\u001b[0m \u001b[1m1s\u001b[0m 40ms/step - accuracy: 0.5701 - loss: 1.2619\n",
            "Epoch 7/70\n",
            "\u001b[1m20/20\u001b[0m \u001b[32m━━━━━━━━━━━━━━━━━━━━\u001b[0m\u001b[37m\u001b[0m \u001b[1m1s\u001b[0m 41ms/step - accuracy: 0.3127 - loss: 1.2751\n",
            "Epoch 8/70\n",
            "\u001b[1m20/20\u001b[0m \u001b[32m━━━━━━━━━━━━━━━━━━━━\u001b[0m\u001b[37m\u001b[0m \u001b[1m2s\u001b[0m 75ms/step - accuracy: 0.6388 - loss: 0.9117\n",
            "Epoch 9/70\n",
            "\u001b[1m20/20\u001b[0m \u001b[32m━━━━━━━━━━━━━━━━━━━━\u001b[0m\u001b[37m\u001b[0m \u001b[1m2s\u001b[0m 79ms/step - accuracy: 0.6281 - loss: 0.9106\n",
            "Epoch 10/70\n",
            "\u001b[1m20/20\u001b[0m \u001b[32m━━━━━━━━━━━━━━━━━━━━\u001b[0m\u001b[37m\u001b[0m \u001b[1m2s\u001b[0m 41ms/step - accuracy: 0.6950 - loss: 0.6122\n",
            "Epoch 11/70\n",
            "\u001b[1m20/20\u001b[0m \u001b[32m━━━━━━━━━━━━━━━━━━━━\u001b[0m\u001b[37m\u001b[0m \u001b[1m1s\u001b[0m 41ms/step - accuracy: 0.8619 - loss: 0.3266\n",
            "Epoch 12/70\n",
            "\u001b[1m20/20\u001b[0m \u001b[32m━━━━━━━━━━━━━━━━━━━━\u001b[0m\u001b[37m\u001b[0m \u001b[1m1s\u001b[0m 40ms/step - accuracy: 0.9340 - loss: 0.4046\n",
            "Epoch 13/70\n",
            "\u001b[1m20/20\u001b[0m \u001b[32m━━━━━━━━━━━━━━━━━━━━\u001b[0m\u001b[37m\u001b[0m \u001b[1m1s\u001b[0m 40ms/step - accuracy: 0.4501 - loss: 1.2774\n",
            "Epoch 14/70\n",
            "\u001b[1m20/20\u001b[0m \u001b[32m━━━━━━━━━━━━━━━━━━━━\u001b[0m\u001b[37m\u001b[0m \u001b[1m1s\u001b[0m 39ms/step - accuracy: 0.9058 - loss: 0.3778\n",
            "Epoch 15/70\n",
            "\u001b[1m20/20\u001b[0m \u001b[32m━━━━━━━━━━━━━━━━━━━━\u001b[0m\u001b[37m\u001b[0m \u001b[1m1s\u001b[0m 42ms/step - accuracy: 0.9952 - loss: 0.1807\n",
            "Epoch 16/70\n",
            "\u001b[1m20/20\u001b[0m \u001b[32m━━━━━━━━━━━━━━━━━━━━\u001b[0m\u001b[37m\u001b[0m \u001b[1m1s\u001b[0m 41ms/step - accuracy: 0.9155 - loss: 0.4088\n",
            "Epoch 17/70\n",
            "\u001b[1m20/20\u001b[0m \u001b[32m━━━━━━━━━━━━━━━━━━━━\u001b[0m\u001b[37m\u001b[0m \u001b[1m1s\u001b[0m 40ms/step - accuracy: 0.9450 - loss: 0.2629\n",
            "Epoch 18/70\n",
            "\u001b[1m20/20\u001b[0m \u001b[32m━━━━━━━━━━━━━━━━━━━━\u001b[0m\u001b[37m\u001b[0m \u001b[1m1s\u001b[0m 52ms/step - accuracy: 0.9873 - loss: 0.1189\n",
            "Epoch 19/70\n",
            "\u001b[1m20/20\u001b[0m \u001b[32m━━━━━━━━━━━━━━━━━━━━\u001b[0m\u001b[37m\u001b[0m \u001b[1m2s\u001b[0m 75ms/step - accuracy: 1.0000 - loss: 0.2441\n",
            "Epoch 20/70\n",
            "\u001b[1m20/20\u001b[0m \u001b[32m━━━━━━━━━━━━━━━━━━━━\u001b[0m\u001b[37m\u001b[0m \u001b[1m2s\u001b[0m 44ms/step - accuracy: 0.9610 - loss: 0.0710\n",
            "Epoch 21/70\n",
            "\u001b[1m20/20\u001b[0m \u001b[32m━━━━━━━━━━━━━━━━━━━━\u001b[0m\u001b[37m\u001b[0m \u001b[1m2s\u001b[0m 77ms/step - accuracy: 0.9430 - loss: 0.2217\n",
            "Epoch 22/70\n",
            "\u001b[1m20/20\u001b[0m \u001b[32m━━━━━━━━━━━━━━━━━━━━\u001b[0m\u001b[37m\u001b[0m \u001b[1m2s\u001b[0m 42ms/step - accuracy: 0.9610 - loss: 0.1666\n",
            "Epoch 23/70\n",
            "\u001b[1m20/20\u001b[0m \u001b[32m━━━━━━━━━━━━━━━━━━━━\u001b[0m\u001b[37m\u001b[0m \u001b[1m1s\u001b[0m 41ms/step - accuracy: 0.9927 - loss: 0.0813\n",
            "Epoch 24/70\n",
            "\u001b[1m20/20\u001b[0m \u001b[32m━━━━━━━━━━━━━━━━━━━━\u001b[0m\u001b[37m\u001b[0m \u001b[1m1s\u001b[0m 40ms/step - accuracy: 0.9610 - loss: 0.2844\n",
            "Epoch 25/70\n",
            "\u001b[1m20/20\u001b[0m \u001b[32m━━━━━━━━━━━━━━━━━━━━\u001b[0m\u001b[37m\u001b[0m \u001b[1m1s\u001b[0m 40ms/step - accuracy: 1.0000 - loss: 0.0931\n",
            "Epoch 26/70\n",
            "\u001b[1m20/20\u001b[0m \u001b[32m━━━━━━━━━━━━━━━━━━━━\u001b[0m\u001b[37m\u001b[0m \u001b[1m1s\u001b[0m 41ms/step - accuracy: 0.9658 - loss: 0.4580\n",
            "Epoch 27/70\n",
            "\u001b[1m20/20\u001b[0m \u001b[32m━━━━━━━━━━━━━━━━━━━━\u001b[0m\u001b[37m\u001b[0m \u001b[1m1s\u001b[0m 49ms/step - accuracy: 1.0000 - loss: 0.0448\n",
            "Epoch 28/70\n",
            "\u001b[1m20/20\u001b[0m \u001b[32m━━━━━━━━━━━━━━━━━━━━\u001b[0m\u001b[37m\u001b[0m \u001b[1m2s\u001b[0m 94ms/step - accuracy: 1.0000 - loss: 0.0224\n",
            "Epoch 29/70\n",
            "\u001b[1m20/20\u001b[0m \u001b[32m━━━━━━━━━━━━━━━━━━━━\u001b[0m\u001b[37m\u001b[0m \u001b[1m2s\u001b[0m 57ms/step - accuracy: 1.0000 - loss: 0.0100\n",
            "Epoch 30/70\n",
            "\u001b[1m20/20\u001b[0m \u001b[32m━━━━━━━━━━━━━━━━━━━━\u001b[0m\u001b[37m\u001b[0m \u001b[1m1s\u001b[0m 41ms/step - accuracy: 1.0000 - loss: 0.0129\n",
            "Epoch 31/70\n",
            "\u001b[1m20/20\u001b[0m \u001b[32m━━━━━━━━━━━━━━━━━━━━\u001b[0m\u001b[37m\u001b[0m \u001b[1m1s\u001b[0m 40ms/step - accuracy: 1.0000 - loss: 0.0067\n",
            "Epoch 32/70\n",
            "\u001b[1m20/20\u001b[0m \u001b[32m━━━━━━━━━━━━━━━━━━━━\u001b[0m\u001b[37m\u001b[0m \u001b[1m1s\u001b[0m 40ms/step - accuracy: 1.0000 - loss: 0.0057\n",
            "Epoch 33/70\n",
            "\u001b[1m20/20\u001b[0m \u001b[32m━━━━━━━━━━━━━━━━━━━━\u001b[0m\u001b[37m\u001b[0m \u001b[1m1s\u001b[0m 38ms/step - accuracy: 1.0000 - loss: 0.0045\n",
            "Epoch 34/70\n",
            "\u001b[1m20/20\u001b[0m \u001b[32m━━━━━━━━━━━━━━━━━━━━\u001b[0m\u001b[37m\u001b[0m \u001b[1m1s\u001b[0m 41ms/step - accuracy: 1.0000 - loss: 0.0044\n",
            "Epoch 35/70\n",
            "\u001b[1m20/20\u001b[0m \u001b[32m━━━━━━━━━━━━━━━━━━━━\u001b[0m\u001b[37m\u001b[0m \u001b[1m1s\u001b[0m 39ms/step - accuracy: 1.0000 - loss: 0.0032\n",
            "Epoch 36/70\n",
            "\u001b[1m20/20\u001b[0m \u001b[32m━━━━━━━━━━━━━━━━━━━━\u001b[0m\u001b[37m\u001b[0m \u001b[1m1s\u001b[0m 41ms/step - accuracy: 1.0000 - loss: 0.0033\n",
            "Epoch 37/70\n",
            "\u001b[1m20/20\u001b[0m \u001b[32m━━━━━━━━━━━━━━━━━━━━\u001b[0m\u001b[37m\u001b[0m \u001b[1m1s\u001b[0m 40ms/step - accuracy: 1.0000 - loss: 0.0033\n",
            "Epoch 38/70\n",
            "\u001b[1m20/20\u001b[0m \u001b[32m━━━━━━━━━━━━━━━━━━━━\u001b[0m\u001b[37m\u001b[0m \u001b[1m1s\u001b[0m 41ms/step - accuracy: 1.0000 - loss: 0.0025\n",
            "Epoch 39/70\n",
            "\u001b[1m20/20\u001b[0m \u001b[32m━━━━━━━━━━━━━━━━━━━━\u001b[0m\u001b[37m\u001b[0m \u001b[1m1s\u001b[0m 60ms/step - accuracy: 1.0000 - loss: 0.0033\n",
            "Epoch 40/70\n",
            "\u001b[1m20/20\u001b[0m \u001b[32m━━━━━━━━━━━━━━━━━━━━\u001b[0m\u001b[37m\u001b[0m \u001b[1m2s\u001b[0m 75ms/step - accuracy: 1.0000 - loss: 0.0025\n",
            "Epoch 41/70\n",
            "\u001b[1m20/20\u001b[0m \u001b[32m━━━━━━━━━━━━━━━━━━━━\u001b[0m\u001b[37m\u001b[0m \u001b[1m2s\u001b[0m 41ms/step - accuracy: 1.0000 - loss: 0.0019\n",
            "Epoch 42/70\n",
            "\u001b[1m20/20\u001b[0m \u001b[32m━━━━━━━━━━━━━━━━━━━━\u001b[0m\u001b[37m\u001b[0m \u001b[1m1s\u001b[0m 40ms/step - accuracy: 1.0000 - loss: 0.0023\n",
            "Epoch 43/70\n",
            "\u001b[1m20/20\u001b[0m \u001b[32m━━━━━━━━━━━━━━━━━━━━\u001b[0m\u001b[37m\u001b[0m \u001b[1m1s\u001b[0m 40ms/step - accuracy: 1.0000 - loss: 0.0017\n",
            "Epoch 44/70\n",
            "\u001b[1m20/20\u001b[0m \u001b[32m━━━━━━━━━━━━━━━━━━━━\u001b[0m\u001b[37m\u001b[0m \u001b[1m1s\u001b[0m 42ms/step - accuracy: 1.0000 - loss: 0.0016\n",
            "Epoch 45/70\n",
            "\u001b[1m20/20\u001b[0m \u001b[32m━━━━━━━━━━━━━━━━━━━━\u001b[0m\u001b[37m\u001b[0m \u001b[1m1s\u001b[0m 40ms/step - accuracy: 1.0000 - loss: 0.0016\n",
            "Epoch 46/70\n",
            "\u001b[1m20/20\u001b[0m \u001b[32m━━━━━━━━━━━━━━━━━━━━\u001b[0m\u001b[37m\u001b[0m \u001b[1m1s\u001b[0m 41ms/step - accuracy: 1.0000 - loss: 0.0014\n",
            "Epoch 47/70\n",
            "\u001b[1m20/20\u001b[0m \u001b[32m━━━━━━━━━━━━━━━━━━━━\u001b[0m\u001b[37m\u001b[0m \u001b[1m1s\u001b[0m 40ms/step - accuracy: 1.0000 - loss: 0.0014\n",
            "Epoch 48/70\n",
            "\u001b[1m20/20\u001b[0m \u001b[32m━━━━━━━━━━━━━━━━━━━━\u001b[0m\u001b[37m\u001b[0m \u001b[1m1s\u001b[0m 41ms/step - accuracy: 1.0000 - loss: 0.0014\n",
            "Epoch 49/70\n",
            "\u001b[1m20/20\u001b[0m \u001b[32m━━━━━━━━━━━━━━━━━━━━\u001b[0m\u001b[37m\u001b[0m \u001b[1m2s\u001b[0m 63ms/step - accuracy: 1.0000 - loss: 0.0011\n",
            "Epoch 50/70\n",
            "\u001b[1m20/20\u001b[0m \u001b[32m━━━━━━━━━━━━━━━━━━━━\u001b[0m\u001b[37m\u001b[0m \u001b[1m2s\u001b[0m 86ms/step - accuracy: 1.0000 - loss: 0.0011\n",
            "Epoch 51/70\n",
            "\u001b[1m20/20\u001b[0m \u001b[32m━━━━━━━━━━━━━━━━━━━━\u001b[0m\u001b[37m\u001b[0m \u001b[1m2s\u001b[0m 40ms/step - accuracy: 1.0000 - loss: 0.0011\n",
            "Epoch 52/70\n",
            "\u001b[1m20/20\u001b[0m \u001b[32m━━━━━━━━━━━━━━━━━━━━\u001b[0m\u001b[37m\u001b[0m \u001b[1m1s\u001b[0m 41ms/step - accuracy: 1.0000 - loss: 9.1760e-04\n",
            "Epoch 53/70\n",
            "\u001b[1m20/20\u001b[0m \u001b[32m━━━━━━━━━━━━━━━━━━━━\u001b[0m\u001b[37m\u001b[0m \u001b[1m1s\u001b[0m 40ms/step - accuracy: 1.0000 - loss: 8.0954e-04\n",
            "Epoch 54/70\n",
            "\u001b[1m20/20\u001b[0m \u001b[32m━━━━━━━━━━━━━━━━━━━━\u001b[0m\u001b[37m\u001b[0m \u001b[1m1s\u001b[0m 39ms/step - accuracy: 1.0000 - loss: 7.9433e-04\n",
            "Epoch 55/70\n",
            "\u001b[1m20/20\u001b[0m \u001b[32m━━━━━━━━━━━━━━━━━━━━\u001b[0m\u001b[37m\u001b[0m \u001b[1m1s\u001b[0m 42ms/step - accuracy: 1.0000 - loss: 8.3154e-04\n",
            "Epoch 56/70\n",
            "\u001b[1m20/20\u001b[0m \u001b[32m━━━━━━━━━━━━━━━━━━━━\u001b[0m\u001b[37m\u001b[0m \u001b[1m1s\u001b[0m 41ms/step - accuracy: 1.0000 - loss: 0.0010\n",
            "Epoch 57/70\n",
            "\u001b[1m20/20\u001b[0m \u001b[32m━━━━━━━━━━━━━━━━━━━━\u001b[0m\u001b[37m\u001b[0m \u001b[1m1s\u001b[0m 42ms/step - accuracy: 1.0000 - loss: 7.5877e-04\n",
            "Epoch 58/70\n",
            "\u001b[1m20/20\u001b[0m \u001b[32m━━━━━━━━━━━━━━━━━━━━\u001b[0m\u001b[37m\u001b[0m \u001b[1m1s\u001b[0m 40ms/step - accuracy: 1.0000 - loss: 8.4461e-04\n",
            "Epoch 59/70\n",
            "\u001b[1m20/20\u001b[0m \u001b[32m━━━━━━━━━━━━━━━━━━━━\u001b[0m\u001b[37m\u001b[0m \u001b[1m1s\u001b[0m 42ms/step - accuracy: 1.0000 - loss: 7.0594e-04\n",
            "Epoch 60/70\n",
            "\u001b[1m20/20\u001b[0m \u001b[32m━━━━━━━━━━━━━━━━━━━━\u001b[0m\u001b[37m\u001b[0m \u001b[1m1s\u001b[0m 51ms/step - accuracy: 1.0000 - loss: 7.0288e-04\n",
            "Epoch 61/70\n",
            "\u001b[1m20/20\u001b[0m \u001b[32m━━━━━━━━━━━━━━━━━━━━\u001b[0m\u001b[37m\u001b[0m \u001b[1m2s\u001b[0m 76ms/step - accuracy: 1.0000 - loss: 6.0708e-04\n",
            "Epoch 62/70\n",
            "\u001b[1m20/20\u001b[0m \u001b[32m━━━━━━━━━━━━━━━━━━━━\u001b[0m\u001b[37m\u001b[0m \u001b[1m2s\u001b[0m 40ms/step - accuracy: 1.0000 - loss: 7.2849e-04\n",
            "Epoch 63/70\n",
            "\u001b[1m20/20\u001b[0m \u001b[32m━━━━━━━━━━━━━━━━━━━━\u001b[0m\u001b[37m\u001b[0m \u001b[1m1s\u001b[0m 42ms/step - accuracy: 1.0000 - loss: 6.3619e-04\n",
            "Epoch 64/70\n",
            "\u001b[1m20/20\u001b[0m \u001b[32m━━━━━━━━━━━━━━━━━━━━\u001b[0m\u001b[37m\u001b[0m \u001b[1m1s\u001b[0m 42ms/step - accuracy: 1.0000 - loss: 4.0607e-04\n",
            "Epoch 65/70\n",
            "\u001b[1m20/20\u001b[0m \u001b[32m━━━━━━━━━━━━━━━━━━━━\u001b[0m\u001b[37m\u001b[0m \u001b[1m1s\u001b[0m 40ms/step - accuracy: 1.0000 - loss: 4.8742e-04\n",
            "Epoch 66/70\n",
            "\u001b[1m20/20\u001b[0m \u001b[32m━━━━━━━━━━━━━━━━━━━━\u001b[0m\u001b[37m\u001b[0m \u001b[1m1s\u001b[0m 40ms/step - accuracy: 1.0000 - loss: 5.4787e-04\n",
            "Epoch 67/70\n",
            "\u001b[1m20/20\u001b[0m \u001b[32m━━━━━━━━━━━━━━━━━━━━\u001b[0m\u001b[37m\u001b[0m \u001b[1m1s\u001b[0m 43ms/step - accuracy: 1.0000 - loss: 4.2368e-04\n",
            "Epoch 68/70\n",
            "\u001b[1m20/20\u001b[0m \u001b[32m━━━━━━━━━━━━━━━━━━━━\u001b[0m\u001b[37m\u001b[0m \u001b[1m1s\u001b[0m 41ms/step - accuracy: 1.0000 - loss: 6.5346e-04\n",
            "Epoch 69/70\n",
            "\u001b[1m20/20\u001b[0m \u001b[32m━━━━━━━━━━━━━━━━━━━━\u001b[0m\u001b[37m\u001b[0m \u001b[1m1s\u001b[0m 43ms/step - accuracy: 1.0000 - loss: 5.1928e-04\n",
            "Epoch 70/70\n",
            "\u001b[1m20/20\u001b[0m \u001b[32m━━━━━━━━━━━━━━━━━━━━\u001b[0m\u001b[37m\u001b[0m \u001b[1m2s\u001b[0m 72ms/step - accuracy: 1.0000 - loss: 4.5473e-04\n"
          ]
        }
      ]
    },
    {
      "cell_type": "code",
      "source": [
        "# Plot training accuracy and loss\n",
        "acc = history.history['accuracy']\n",
        "loss = history.history['loss']\n",
        "epochs = range(len(acc))\n",
        "\n",
        "plt.plot(epochs, acc, 'b', label='Training accuracy')\n",
        "plt.title('Training accuracy')\n",
        "\n",
        "plt.figure()\n",
        "plt.plot(epochs, loss, 'b', label='Training loss')\n",
        "plt.title('Training loss')\n",
        "plt.legend()\n",
        "plt.show()"
      ],
      "metadata": {
        "colab": {
          "base_uri": "https://localhost:8080/",
          "height": 887
        },
        "id": "HBCQnHi2-w8R",
        "outputId": "47feefeb-1bcc-49eb-85bd-449623da5084"
      },
      "execution_count": 28,
      "outputs": [
        {
          "output_type": "display_data",
          "data": {
            "text/plain": [
              "<Figure size 640x480 with 1 Axes>"
            ],
            "image/png": "[encoded data removed]"
          },
          "metadata": {}
        },
        {
          "output_type": "display_data",
          "data": {
            "text/plain": [
              "<Figure size 640x480 with 1 Axes>"
            ],
            "image/png": "[encoded data removed]"
          },
          "metadata": {}
        }
      ]
    },
    {
      "cell_type": "code",
      "source": [
        "# Sample prediction based on a user's description\n",
        "def recommend_genre(user_description):\n",
        "    token_list = tokenizer.texts_to_sequences([user_description.lower()])[0]\n",
        "    token_list = pad_sequences([token_list], maxlen=max_sequence_len-1, padding='pre')\n",
        "    predicted_probs = model.predict(token_list, verbose=0)\n",
        "    predicted_index = np.argmax(predicted_probs)\n",
        "\n",
        "    # Genres list\n",
        "    genre = genres[predicted_index]\n",
        "    return genre"
      ],
      "metadata": {
        "id": "6c-GsBxS-1Zt"
      },
      "execution_count": 29,
      "outputs": []
    },
    {
      "cell_type": "code",
      "source": [
        "# Example user descriptions for testing\n",
        "user_descriptions = {\n",
        "    'User1': \"I enjoy walking through lush gardens and relaxing in green spaces.\",\n",
        "    'User2': \"I love learning about ancient civilizations and exploring historical ruins.\",\n",
        "    'User3': \"Visiting museums to see art and antiques is my favorite hobby.\",\n",
        "    'User4': \"I love going on adventures to natural wonders like mountains and waterfalls.\",\n",
        "    'User5': \"I prefer exploring architectural masterpieces and historical landmarks.\"\n",
        "}\n",
        "\n",
        "# Convert descriptions to sequences using tokenizer\n",
        "user_sequences = tokenizer.texts_to_sequences(user_descriptions.values())\n",
        "user_sequences = pad_sequences(user_sequences, padding='post')\n",
        "\n",
        "# Predict genres based on user descriptions\n",
        "predictions = model.predict(user_sequences)\n",
        "\n",
        "# Output the predicted genres for each user\n",
        "for i, (user_name, user_desc) in enumerate(user_descriptions.items()):\n",
        "    prediction = predictions[i]\n",
        "    predicted_genre_index = np.argmax(prediction)\n",
        "    # Check if predicted_genre_index is within the valid range of genres\n",
        "    if predicted_genre_index < len(genres):\n",
        "        predicted_genre = genres[predicted_genre_index]\n",
        "        print(f\"User: {user_name} \\nDescription: '{user_desc}' \\nPredicted Genre: {predicted_genre}\\n\")\n",
        "    else:\n",
        "        print(f\"User: {user_name} \\nDescription: '{user_desc}' \\nPredicted Genre: Out of range (index: {predicted_genre_index})\\n\")\n"
      ],
      "metadata": {
        "colab": {
          "base_uri": "https://localhost:8080/"
        },
        "id": "Qv0KrbO8-4cZ",
        "outputId": "5a8458af-c362-4c00-e9ec-331627a241a2"
      },
      "execution_count": 30,
      "outputs": [
        {
          "output_type": "stream",
          "name": "stderr",
          "text": [
            "WARNING:tensorflow:5 out of the last 5 calls to <function TensorFlowTrainer.make_predict_function.<locals>.one_step_on_data_distributed at 0x79755548c280> triggered tf.function retracing. Tracing is expensive and the excessive number of tracings could be due to (1) creating @tf.function repeatedly in a loop, (2) passing tensors with different shapes, (3) passing Python objects instead of tensors. For (1), please define your @tf.function outside of the loop. For (2), @tf.function has reduce_retracing=True option that can avoid unnecessary retracing. For (3), please refer to https://www.tensorflow.org/guide/function#controlling_retracing and https://www.tensorflow.org/api_docs/python/tf/function for  more details.\n"
          ]
        },
        {
          "output_type": "stream",
          "name": "stdout",
          "text": [
            "\u001b[1m1/1\u001b[0m \u001b[32m━━━━━━━━━━━━━━━━━━━━\u001b[0m\u001b[37m\u001b[0m \u001b[1m0s\u001b[0m 429ms/step\n",
            "User: User1 \n",
            "Description: 'I enjoy walking through lush gardens and relaxing in green spaces.' \n",
            "Predicted Genre: Park\n",
            "\n",
            "User: User2 \n",
            "Description: 'I love learning about ancient civilizations and exploring historical ruins.' \n",
            "Predicted Genre: Natural Landmark\n",
            "\n",
            "User: User3 \n",
            "Description: 'Visiting museums to see art and antiques is my favorite hobby.' \n",
            "Predicted Genre: Park\n",
            "\n",
            "User: User4 \n",
            "Description: 'I love going on adventures to natural wonders like mountains and waterfalls.' \n",
            "Predicted Genre: Natural Landmark\n",
            "\n",
            "User: User5 \n",
            "Description: 'I prefer exploring architectural masterpieces and historical landmarks.' \n",
            "Predicted Genre: Religious Site\n",
            "\n"
          ]
        }
      ]
    }
  ]
}