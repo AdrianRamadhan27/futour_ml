{
  "nbformat": 4,
  "nbformat_minor": 0,
  "metadata": {
    "colab": {
      "provenance": []
    },
    "kernelspec": {
      "name": "python3",
      "display_name": "Python 3"
    },
    "language_info": {
      "name": "python"
    }
  },
  "cells": [
    {
      "cell_type": "markdown",
      "source": [
        "Empty Notebook"
      ],
      "metadata": {
        "id": "B4wEVV3Zk_Bq"
      }
    },
    {
      "cell_type": "code",
      "execution_count": null,
      "metadata": {
        "id": "AVq2do4sk-QO"
      },
      "outputs": [],
      "source": []
    }
  ]
}